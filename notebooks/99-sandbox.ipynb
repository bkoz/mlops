{
 "cells": [
  {
   "cell_type": "code",
   "execution_count": 1,
   "id": "abe517d5-bfeb-4142-a8fa-f3eb3dc6923c",
   "metadata": {},
   "outputs": [],
   "source": [
    "import math\n",
    "import numpy as np\n",
    "import torch"
   ]
  },
  {
   "cell_type": "code",
   "execution_count": 2,
   "id": "cfa737ed-e9ad-4afc-b999-9ff1ac105eb2",
   "metadata": {},
   "outputs": [
    {
     "name": "stdout",
     "output_type": "stream",
     "text": [
      "torch.Size([2])\n"
     ]
    },
    {
     "data": {
      "text/plain": [
       "tensor([[3],\n",
       "        [6]])"
      ]
     },
     "execution_count": 2,
     "metadata": {},
     "output_type": "execute_result"
    }
   ],
   "source": [
    "a1 = torch.tensor([[1, 1, 1], [2, 2, 2]])\n",
    "s1 = torch.sum(a1, dim=1)\n",
    "print(s1.shape)\n",
    "s1.reshape((2,1))"
   ]
  },
  {
   "cell_type": "code",
   "execution_count": 64,
   "id": "964285bb-a00a-4240-953b-fb175e8a013c",
   "metadata": {},
   "outputs": [],
   "source": [
    "def softmax(x):\n",
    "    a = torch.exp(t)\n",
    "    b = torch.sum(torch.exp(t), dim=1)\n",
    "    return a / b.reshape((a.shape[0], 1))"
   ]
  },
  {
   "cell_type": "code",
   "execution_count": 65,
   "id": "43486e96-1312-4751-ad41-4957e8284530",
   "metadata": {},
   "outputs": [
    {
     "name": "stdout",
     "output_type": "stream",
     "text": [
      "softmax = tensor([[0.3333, 0.3333, 0.3333],\n",
      "        [0.3333, 0.3333, 0.3333]])\n",
      "sum = 2.0\n"
     ]
    }
   ],
   "source": [
    "print(f'softmax = {softmax(a1)}')\n",
    "print(f'sum = {torch.sum(softmax(a1))}')"
   ]
  },
  {
   "cell_type": "code",
   "execution_count": 66,
   "id": "8beedce3-be7f-434c-952e-b122fce69c49",
   "metadata": {},
   "outputs": [],
   "source": [
    "x = torch.tensor([1.0589e-09, 6.5772e-02, 2.2230e-01, 2.2982e-07, 3.2202e-01, 9.9984e-01,\n",
    "        3.3078e-03, 6.8753e-01, 3.4633e-06, 7.9059e-01])"
   ]
  },
  {
   "cell_type": "code",
   "execution_count": 68,
   "id": "812f667a-57a6-4dca-9b3a-5764584c124a",
   "metadata": {},
   "outputs": [
    {
     "name": "stdout",
     "output_type": "stream",
     "text": [
      "softmax = tensor([[0.3333, 0.3333, 0.3333],\n",
      "        [0.3333, 0.3333, 0.3333]])\n",
      "sum tensor([1., 1.])\n"
     ]
    }
   ],
   "source": [
    "print(f'softmax = {softmax(x)}')\n",
    "print(f'sum {torch.sum(softmax(x), dim=1)}')"
   ]
  },
  {
   "cell_type": "code",
   "execution_count": 63,
   "id": "05c7c66d-5bf5-48e7-acb4-acde5fe3f9fb",
   "metadata": {},
   "outputs": [
    {
     "data": {
      "text/plain": [
       "tensor([1., 1.])"
      ]
     },
     "execution_count": 63,
     "metadata": {},
     "output_type": "execute_result"
    }
   ],
   "source": [
    "x = [[1, 1, 1], [1, 1, 1]]\n",
    "t = torch.tensor(x)\n",
    "a = torch.exp(t)\n",
    "b = torch.sum(torch.exp(t), dim=1)\n",
    "# r2 =  a / b\n",
    "# print(f'r2 = {r2}, r2.sum = {r2.sum()}')\n",
    "r = a / b.reshape((a.shape[0], 1))\n",
    "r.sum(dim=1)"
   ]
  },
  {
   "cell_type": "code",
   "execution_count": 25,
   "id": "d8b1b59a-0d1e-4d5e-b75d-7d191bfce359",
   "metadata": {},
   "outputs": [
    {
     "name": "stdout",
     "output_type": "stream",
     "text": [
      "tensor(8.1548)\n"
     ]
    },
    {
     "data": {
      "text/plain": [
       "tensor([2.7183, 2.7183, 2.7183])"
      ]
     },
     "execution_count": 25,
     "metadata": {},
     "output_type": "execute_result"
    }
   ],
   "source": [
    "print(torch.sum(torch.exp(torch.tensor([1, 1, 1]))))\n",
    "torch.exp(torch.tensor([1, 1, 1]))"
   ]
  },
  {
   "cell_type": "code",
   "execution_count": 36,
   "id": "a5af5e92-adbb-4a9c-bdb1-7ccfd37ddb5c",
   "metadata": {},
   "outputs": [
    {
     "name": "stdout",
     "output_type": "stream",
     "text": [
      "tensor([8.1548, 8.1548])\n",
      "tensor([2.7183, 2.7183, 2.7183])\n"
     ]
    }
   ],
   "source": [
    "print(torch.sum(torch.exp(torch.tensor([[1, 1, 1], [1, 1, 1]])), dim=1))\n",
    "print(torch.exp(torch.tensor([1, 1, 1])))"
   ]
  },
  {
   "cell_type": "code",
   "execution_count": 3,
   "id": "2a511ef1-c3df-47a6-bbe3-50ccee96b302",
   "metadata": {},
   "outputs": [],
   "source": [
    "from torch import nn\n",
    "import torch.nn.functional as F\n",
    "\n",
    "class Network(nn.Module):\n",
    "    def __init__(self):\n",
    "        super().__init__()\n",
    "        \n",
    "        # fc1 - Input layer\n",
    "        self.fc1 = nn.Linear(784, 128)\n",
    "\n",
    "        # relu\n",
    "        self.relu1 = nn.ReLU()\n",
    "        \n",
    "        # fc2- Hidden layer 1\n",
    "        self.fc2 = nn.Linear(128, 64)\n",
    "        \n",
    "        # relu\n",
    "        self.relu2 = nn.ReLU()\n",
    "        \n",
    "        # Output layer, 10 units - one for each digit\n",
    "        self.output = nn.Linear(64, 10)\n",
    "        \n",
    "        # relu\n",
    "        self.relu_output = nn.Softmax(dim=1)\n",
    "        \n",
    "    def forward(self, x):\n",
    "        # Hidden layer with relu activation\n",
    "        x = F.relu(self.fc1(x))\n",
    "        # Hidden layer with relu activation\n",
    "        x = F.relu(self.fc2(x))\n",
    "        # Output\n",
    "        x = F.relu(self.output(x))\n",
    "        \n",
    "        return x"
   ]
  },
  {
   "cell_type": "code",
   "execution_count": 5,
   "id": "a451483d-fe52-4bf9-9282-7211b878389c",
   "metadata": {},
   "outputs": [
    {
     "data": {
      "text/plain": [
       "Network(\n",
       "  (fc1): Linear(in_features=784, out_features=128, bias=True)\n",
       "  (relu1): ReLU()\n",
       "  (fc2): Linear(in_features=128, out_features=64, bias=True)\n",
       "  (relu2): ReLU()\n",
       "  (output): Linear(in_features=64, out_features=10, bias=True)\n",
       "  (relu_output): Softmax(dim=1)\n",
       ")"
      ]
     },
     "execution_count": 5,
     "metadata": {},
     "output_type": "execute_result"
    }
   ],
   "source": [
    "model = Network()\n",
    "model"
   ]
  },
  {
   "cell_type": "code",
   "execution_count": null,
   "id": "35498d22-b618-464d-8cfb-8a7ed49b7f3c",
   "metadata": {},
   "outputs": [],
   "source": []
  }
 ],
 "metadata": {
  "kernelspec": {
   "display_name": "Python 3 (ipykernel)",
   "language": "python",
   "name": "python3"
  },
  "language_info": {
   "codemirror_mode": {
    "name": "ipython",
    "version": 3
   },
   "file_extension": ".py",
   "mimetype": "text/x-python",
   "name": "python",
   "nbconvert_exporter": "python",
   "pygments_lexer": "ipython3",
   "version": "3.9.5"
  }
 },
 "nbformat": 4,
 "nbformat_minor": 5
}
